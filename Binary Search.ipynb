{
 "cells": [
  {
   "cell_type": "code",
   "execution_count": 2,
   "id": "73f31d55",
   "metadata": {},
   "outputs": [
    {
     "name": "stdout",
     "output_type": "stream",
     "text": [
      "3\n",
      "-1\n"
     ]
    }
   ],
   "source": [
    "def binarysearch(arr, N, K):\n",
    "    left, right = 0, N - 1\n",
    "    \n",
    "    while left <= right:\n",
    "        mid = left + (right - left) // 2\n",
    "        \n",
    "        if arr[mid] == K:\n",
    "            return mid\n",
    "        elif arr[mid] < K:\n",
    "            left = mid + 1\n",
    "        else:\n",
    "            right = mid - 1\n",
    "    \n",
    "    return -1\n",
    "\n",
    "# Example usage:\n",
    "arr1 = [1, 2, 3, 4, 5]\n",
    "N1 = len(arr1)\n",
    "K1 = 4\n",
    "print(binarysearch(arr1, N1, K1))  # Output: 3\n",
    "\n",
    "arr2 = [11, 22, 33, 44, 55]\n",
    "N2 = len(arr2)\n",
    "K2 = 445\n",
    "print(binarysearch(arr2, N2, K2))  # Output: -1\n"
   ]
  },
  {
   "cell_type": "code",
   "execution_count": null,
   "id": "b4711872",
   "metadata": {},
   "outputs": [],
   "source": []
  }
 ],
 "metadata": {
  "kernelspec": {
   "display_name": "Python 3 (ipykernel)",
   "language": "python",
   "name": "python3"
  },
  "language_info": {
   "codemirror_mode": {
    "name": "ipython",
    "version": 3
   },
   "file_extension": ".py",
   "mimetype": "text/x-python",
   "name": "python",
   "nbconvert_exporter": "python",
   "pygments_lexer": "ipython3",
   "version": "3.11.5"
  }
 },
 "nbformat": 4,
 "nbformat_minor": 5
}
